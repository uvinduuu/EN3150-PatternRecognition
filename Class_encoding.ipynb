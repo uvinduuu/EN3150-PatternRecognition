{
 "cells": [
  {
   "cell_type": "code",
   "execution_count": 1,
   "metadata": {},
   "outputs": [],
   "source": [
    "import seaborn as sns\n",
    "from sklearn.preprocessing import LabelEncoder, OneHotEncoder\n",
    "import pandas as pd"
   ]
  },
  {
   "cell_type": "code",
   "execution_count": 2,
   "metadata": {},
   "outputs": [
    {
     "name": "stdout",
     "output_type": "stream",
     "text": [
      "Display class (species) label and encoded classes with all features\n",
      "\n",
      "       species     island  bill_length_mm  bill_depth_mm  flipper_length_mm   \n",
      "0       Adelie  Torgersen            39.1           18.7              181.0  \\\n",
      "152  Chinstrap      Dream            46.5           17.9              192.0   \n",
      "220     Gentoo     Biscoe            46.1           13.2              211.0   \n",
      "\n",
      "     body_mass_g     sex  class_encoded  \n",
      "0         3750.0    Male              0  \n",
      "152       3500.0  Female              1  \n",
      "220       4500.0  Female              2  \n",
      "\n",
      "Display class (species) label and encoded classes\n",
      "\n",
      "     class_encoded    species\n",
      "0                0     Adelie\n",
      "152              1  Chinstrap\n",
      "220              2     Gentoo\n"
     ]
    }
   ],
   "source": [
    "# Load the dataset\n",
    "df = sns.load_dataset(\"penguins\")\n",
    "le = LabelEncoder()\n",
    "y_encoded = le.fit_transform(df['species'])\n",
    "df['class_encoded'] = y_encoded\n",
    "\n",
    "samples = df.groupby('species').head(1)\n",
    "\n",
    "\n",
    "print(\"Display class (species) label and encoded classes with all features\")\n",
    "print()\n",
    "print(samples)\n",
    "print()\n",
    "print(\"Display class (species) label and encoded classes\")\n",
    "# Display only class label and species\n",
    "print()\n",
    "print(samples[['class_encoded', 'species']])"
   ]
  },
  {
   "cell_type": "code",
   "execution_count": 3,
   "metadata": {},
   "outputs": [
    {
     "name": "stdout",
     "output_type": "stream",
     "text": [
      "Display class (species) label and encoded classes with all features\n",
      "\n",
      "     species     island  bill_length_mm  bill_depth_mm  flipper_length_mm   \n",
      "0     Adelie  Torgersen            39.1           18.7              181.0  \\\n",
      "1  Chinstrap      Dream            46.5           17.9              192.0   \n",
      "2     Gentoo     Biscoe            46.1           13.2              211.0   \n",
      "\n",
      "   body_mass_g     sex  species_Adelie  species_Chinstrap  species_Gentoo  \n",
      "0       3750.0    Male             1.0                0.0             0.0  \n",
      "1       3500.0  Female             0.0                1.0             0.0  \n",
      "2       4500.0  Female             0.0                0.0             1.0  \n",
      "\n",
      "Display class (species) label and encoded classes\n",
      "\n",
      "   species_Adelie  species_Chinstrap  species_Gentoo    species\n",
      "0             1.0                0.0             0.0     Adelie\n",
      "1             0.0                1.0             0.0  Chinstrap\n",
      "2             0.0                0.0             1.0     Gentoo\n"
     ]
    }
   ],
   "source": [
    "df = sns.load_dataset(\"penguins\")\n",
    "# One-hot encoding for species column\n",
    "ohe = OneHotEncoder(sparse_output=False)\n",
    "species_encoded = ohe.fit_transform(df[['species']])\n",
    "species_encoded_df = pd.DataFrame(species_encoded, columns=ohe.get_feature_names_out(['species']))\n",
    "\n",
    "# Combine the one-hot encoded species with the original DataFrame\n",
    "df_encoded = pd.concat([df, species_encoded_df], axis=1)\n",
    "\n",
    "# Group the data by class and select the first sample from each group\n",
    "samples = df_encoded.groupby('species').first().reset_index()\n",
    "\n",
    "# Display the samples\n",
    "print(\"Display class (species) label and encoded classes with all features\")\n",
    "print()\n",
    "print(samples)\n",
    "print()\n",
    "print(\"Display class (species) label and encoded classes\")\n",
    "# Display only class label and species\n",
    "print()\n",
    "print(samples[['species_Adelie',  'species_Chinstrap',  'species_Gentoo', 'species']])"
   ]
  },
  {
   "cell_type": "code",
   "execution_count": 4,
   "metadata": {},
   "outputs": [
    {
     "name": "stdout",
     "output_type": "stream",
     "text": [
      "Display class (species) label and encoded classes with all features\n",
      "\n",
      "     species     island  bill_length_mm  bill_depth_mm  flipper_length_mm   \n",
      "0     Adelie  Torgersen            39.1           18.7              181.0  \\\n",
      "1  Chinstrap      Dream            46.5           17.9              192.0   \n",
      "2     Gentoo     Biscoe            46.1           13.2              211.0   \n",
      "\n",
      "   body_mass_g     sex  y_labels  \n",
      "0       3750.0    Male         0  \n",
      "1       3500.0  Female         1  \n",
      "2       4500.0  Female         2  \n",
      "\n"
     ]
    }
   ],
   "source": [
    "# Also it is possible to use pd.factorize\n",
    "y = df['species']\n",
    "\n",
    "\n",
    "# Convert categorical values to numerical labels\n",
    "y_labels, y_unique = pd.factorize(y)\n",
    "\n",
    "df['y_labels'] = y_labels\n",
    "samples = df.groupby('species').first().reset_index()\n",
    "\n",
    "# Display the samples\n",
    "print(\"Display class (species) label and encoded classes with all features\")\n",
    "print()\n",
    "print(samples)\n",
    "print()\n",
    "\n"
   ]
  },
  {
   "cell_type": "markdown",
   "metadata": {},
   "source": [
    "# Difference Between `LabelEncoder` and `pd.factorize`\n",
    "\n",
    "Both `LabelEncoder` (from `scikit-learn`) and `pd.factorize` (from `pandas`) are methods used to convert categorical data into numerical labels. However, there are key differences between the two:\n",
    "\n",
    "## 1. Return Values:\n",
    "- **LabelEncoder**:\n",
    "  - Returns only the encoded numeric labels.\n",
    "  - Methods like `fit`, `transform`, and `inverse_transform` allow mapping between categorical and numeric values.\n",
    "\n",
    "- **pd.factorize**:\n",
    "  - Returns two values: encoded labels and the unique categories in the original data.\n",
    "  - Does not require a `fit` step like `LabelEncoder`.\n",
    "\n",
    "## 2. Handling Unseen Data:\n",
    "- **LabelEncoder**:\n",
    "  - Raises an error if it encounters new/unseen categories during transformation.\n",
    "  \n",
    "- **pd.factorize**:\n",
    "  - Works directly on the data and encodes based on first appearance, but it does not have built-in support for handling unseen data.\n",
    "\n",
    "## 3. Label Ordering:\n",
    "- **LabelEncoder**:\n",
    "  - Assigns labels based on the **sorted** order of categories (lexicographically).\n",
    "\n",
    "- **pd.factorize**:\n",
    "  - Assigns labels based on the **first occurrence** of each category.\n",
    "\n",
    "## 4. Type of Output:\n",
    "- **LabelEncoder**:\n",
    "  - Works on pandas Series or NumPy arrays and is specific to `scikit-learn`.\n",
    "  \n",
    "- **pd.factorize**:\n",
    "  - Works with pandas objects like Series and DataFrames, making it more general for pandas-based operations.\n",
    "\n",
    "### When to Use:\n",
    "- Use **`LabelEncoder`** when you need a more comprehensive tool for fitting and transforming categories, especially for machine learning tasks.\n",
    "- Use **`pd.factorize`** when you need a simple, one-step solution to encode categorical data and retrieve unique categories.\n"
   ]
  }
 ],
 "metadata": {
  "kernelspec": {
   "display_name": "Python 3",
   "language": "python",
   "name": "python3"
  },
  "language_info": {
   "codemirror_mode": {
    "name": "ipython",
    "version": 3
   },
   "file_extension": ".py",
   "mimetype": "text/x-python",
   "name": "python",
   "nbconvert_exporter": "python",
   "pygments_lexer": "ipython3",
   "version": "3.11.1"
  }
 },
 "nbformat": 4,
 "nbformat_minor": 2
}
